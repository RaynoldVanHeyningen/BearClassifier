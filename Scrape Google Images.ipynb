{
 "cells": [
  {
   "cell_type": "code",
   "execution_count": 4,
   "metadata": {},
   "outputs": [
    {
     "name": "stdout",
     "output_type": "stream",
     "text": [
      "Requirement already satisfied: selenium in c:\\python38\\lib\\site-packages (3.141.0)\n",
      "Requirement already satisfied: urllib3 in c:\\python38\\lib\\site-packages (from selenium) (1.25.10)\n",
      "Note: you may need to restart the kernel to use updated packages.\n"
     ]
    }
   ],
   "source": [
    "pip install selenium"
   ]
  },
  {
   "cell_type": "code",
   "execution_count": 25,
   "metadata": {
    "scrolled": true
   },
   "outputs": [
    {
     "name": "stdout",
     "output_type": "stream",
     "text": [
      "Requirement already satisfied: Pillow in c:\\python38\\lib\\site-packages (7.1.2)\n",
      "Note: you may need to restart the kernel to use updated packages.\n"
     ]
    }
   ],
   "source": [
    "pip install Pillow"
   ]
  },
  {
   "cell_type": "code",
   "execution_count": 28,
   "metadata": {},
   "outputs": [],
   "source": [
    "from selenium import webdriver\n",
    "from PIL import Image\n",
    "import os\n",
    "import selenium\n",
    "import time\n",
    "import requests\n",
    "import io\n",
    "import hashlib"
   ]
  },
  {
   "cell_type": "code",
   "execution_count": 7,
   "metadata": {},
   "outputs": [],
   "source": [
    "DRIVER_PATH = 'C:\\\\Tools\\\\chromedriver.exe' "
   ]
  },
  {
   "cell_type": "code",
   "execution_count": 30,
   "metadata": {},
   "outputs": [],
   "source": [
    "SEARCH_TERM = 'teddy bear'"
   ]
  },
  {
   "cell_type": "code",
   "execution_count": 9,
   "metadata": {},
   "outputs": [],
   "source": [
    "DESTINATION = './images/bears'"
   ]
  },
  {
   "cell_type": "code",
   "execution_count": 10,
   "metadata": {},
   "outputs": [],
   "source": [
    "wd = webdriver.Chrome(executable_path=DRIVER_PATH)"
   ]
  },
  {
   "cell_type": "code",
   "execution_count": 11,
   "metadata": {},
   "outputs": [],
   "source": [
    "def fetch_image_urls(query:str, max_links_to_fetch:int, wd:webdriver, sleep_between_interactions:int=1):\n",
    "    def scroll_to_end(wd):\n",
    "        wd.execute_script(\"window.scrollTo(0, document.body.scrollHeight);\")\n",
    "        time.sleep(sleep_between_interactions)    \n",
    "    \n",
    "    # build the google query\n",
    "    search_url = \"https://www.google.com/search?safe=off&site=&tbm=isch&source=hp&q={q}&oq={q}&gs_l=img\"\n",
    "\n",
    "    # load the page\n",
    "    wd.get(search_url.format(q=query))\n",
    "\n",
    "    image_urls = set()\n",
    "    image_count = 0\n",
    "    results_start = 0\n",
    "    while image_count < max_links_to_fetch:\n",
    "        scroll_to_end(wd)\n",
    "\n",
    "        # get all image thumbnail results\n",
    "        thumbnail_results = wd.find_elements_by_css_selector(\"img.Q4LuWd\")\n",
    "        number_results = len(thumbnail_results)\n",
    "        \n",
    "        print(f\"Found: {number_results} search results. Extracting links from {results_start}:{number_results}\")\n",
    "        \n",
    "        for img in thumbnail_results[results_start:number_results]:\n",
    "            # try to click every thumbnail such that we can get the real image behind it\n",
    "            try:\n",
    "                img.click()\n",
    "                time.sleep(sleep_between_interactions)\n",
    "            except Exception:\n",
    "                continue\n",
    "\n",
    "            # extract image urls    \n",
    "            actual_images = wd.find_elements_by_css_selector('img.n3VNCb')\n",
    "            for actual_image in actual_images:\n",
    "                if actual_image.get_attribute('src') and 'http' in actual_image.get_attribute('src'):\n",
    "                    image_urls.add(actual_image.get_attribute('src'))\n",
    "\n",
    "            image_count = len(image_urls)\n",
    "\n",
    "            if len(image_urls) >= max_links_to_fetch:\n",
    "                print(f\"Found: {len(image_urls)} image links, done!\")\n",
    "                break\n",
    "        else:\n",
    "            print(\"Found:\", len(image_urls), \"image links, looking for more ...\")\n",
    "            time.sleep(30)\n",
    "            return\n",
    "            load_more_button = wd.find_element_by_css_selector(\".mye4qd\")\n",
    "            if load_more_button:\n",
    "                wd.execute_script(\"document.querySelector('.mye4qd').click();\")\n",
    "\n",
    "        # move the result startpoint further down\n",
    "        results_start = len(thumbnail_results)\n",
    "\n",
    "    return image_urls"
   ]
  },
  {
   "cell_type": "code",
   "execution_count": 12,
   "metadata": {},
   "outputs": [],
   "source": [
    "def persist_image(folder_path:str,url:str):\n",
    "    try:\n",
    "        image_content = requests.get(url).content\n",
    "\n",
    "    except Exception as e:\n",
    "        print(f\"ERROR - Could not download {url} - {e}\")\n",
    "\n",
    "    try:\n",
    "        image_file = io.BytesIO(image_content)\n",
    "        image = Image.open(image_file).convert('RGB')\n",
    "        file_path = os.path.join(folder_path,hashlib.sha1(image_content).hexdigest()[:10] + '.jpg')\n",
    "        with open(file_path, 'wb') as f:\n",
    "            image.save(f, \"JPEG\", quality=85)\n",
    "        print(f\"SUCCESS - saved {url} - as {file_path}\")\n",
    "    except Exception as e:\n",
    "        print(f\"ERROR - Could not save {url} - {e}\")"
   ]
  },
  {
   "cell_type": "code",
   "execution_count": 13,
   "metadata": {},
   "outputs": [],
   "source": [
    "def search_and_download(search_term:str,driver_path:str,target_path='./images',number_images=5):\n",
    "    target_folder = os.path.join(target_path,'_'.join(search_term.lower().split(' ')))\n",
    "\n",
    "    if not os.path.exists(target_folder):\n",
    "        os.makedirs(target_folder)\n",
    "\n",
    "    with webdriver.Chrome(executable_path=driver_path) as wd:\n",
    "        res = fetch_image_urls(search_term, number_images, wd=wd, sleep_between_interactions=0.5)\n",
    "        \n",
    "    for elem in res:\n",
    "        persist_image(target_folder,elem)"
   ]
  },
  {
   "cell_type": "code",
   "execution_count": 31,
   "metadata": {},
   "outputs": [
    {
     "name": "stdout",
     "output_type": "stream",
     "text": [
      "Found: 100 search results. Extracting links from 0:100\n",
      "Found: 100 image links, done!\n",
      "SUCCESS - saved https://rukminim1.flixcart.com/image/800/800/ju04akw0/stuffed-toy/v/a/c/3-feet-stuff-teddy-bear-beautiful-giant-teddy-gift-for-original-imaff66axpq9jzqg.jpeg?q=90 - as ./images/bears\\teddy_bear\\06e8f8c919.jpg\n",
      "SUCCESS - saved https://encrypted-tbn0.gstatic.com/images?q=tbn%3AANd9GcRMon-5pQIodyyFwMlZr4VI2SdAY--CGDBWyQ&usqp=CAU - as ./images/bears\\teddy_bear\\082a897160.jpg\n",
      "SUCCESS - saved https://encrypted-tbn0.gstatic.com/images?q=tbn%3AANd9GcTnPeOfKPyELlLI6sGmsgz6zlY5EFFQEDvRXw&usqp=CAU - as ./images/bears\\teddy_bear\\4bab02a290.jpg\n",
      "SUCCESS - saved https://encrypted-tbn0.gstatic.com/images?q=tbn%3AANd9GcTObNrieSbGeuM3RkFUY0mQavASJhrcb3ZMMQ&usqp=CAU - as ./images/bears\\teddy_bear\\1cc65562f6.jpg\n",
      "SUCCESS - saved https://cdn.webshopapp.com/shops/289394/files/335674253/1600x2048x2/maileg-teddy-bear-dad.jpg - as ./images/bears\\teddy_bear\\8730ac3641.jpg\n",
      "SUCCESS - saved https://encrypted-tbn0.gstatic.com/images?q=tbn%3AANd9GcS-KckFl-WKdrZ9MTje1xAiRTnBLErIMGcezQ&usqp=CAU - as ./images/bears\\teddy_bear\\f80925783e.jpg\n",
      "SUCCESS - saved https://archive-store.nl/pub/media/catalog/product/cache/207e23213cf636ccdef205098cf3c8a3/b/o/bonton-teddy-joseph-archive-store.jpg - as ./images/bears\\teddy_bear\\1607969333.jpg\n",
      "SUCCESS - saved https://encrypted-tbn0.gstatic.com/images?q=tbn%3AANd9GcSE9Sk1YH6CEtQxJ0ZI3p03sy5yJbJ72XM1hQ&usqp=CAU - as ./images/bears\\teddy_bear\\77b36583b9.jpg\n",
      "SUCCESS - saved https://encrypted-tbn0.gstatic.com/images?q=tbn%3AANd9GcT8bwlSPKOiKTLaQ5TO7Gn02tTlzt5hgZ5Sgg&usqp=CAU - as ./images/bears\\teddy_bear\\b0b09619a6.jpg\n",
      "SUCCESS - saved https://www.deloupe.nl/contents/media/l_2018%20steiff%20ean%20006494%20love%20teddybear.jpg - as ./images/bears\\teddy_bear\\74515aa744.jpg\n",
      "SUCCESS - saved https://www.deloupe.nl/contents/media/l_2018%20steiff%20ean%20006470%20love%20teddy%20bear.jpg - as ./images/bears\\teddy_bear\\aaea773a2c.jpg\n",
      "SUCCESS - saved https://encrypted-tbn0.gstatic.com/images?q=tbn%3AANd9GcR-XxvR7PvR74QH0jBeJkT3maQtHscPYgjYmg&usqp=CAU - as ./images/bears\\teddy_bear\\579b885987.jpg\n",
      "SUCCESS - saved https://www.store-nederland.com/108819-large_default/teddy-bear-plush-toy-goggles-netherlands-holland.jpg - as ./images/bears\\teddy_bear\\8f567d9b5c.jpg\n",
      "SUCCESS - saved https://bulbby.scdn4.secure.raxcdn.com/7092-thickbox_default/teddybearwithname.jpg - as ./images/bears\\teddy_bear\\25240329ba.jpg\n",
      "SUCCESS - saved https://cdn.webshopapp.com/shops/71467/files/317324978/steiff-steiff-heat-cushion-charly-teddy-bear-28-cm.jpg - as ./images/bears\\teddy_bear\\718344dab9.jpg\n",
      "SUCCESS - saved https://www.deloupe.nl/contents/media/l_2020-steiff-006166-teddy-with-felt-elephant.jpg - as ./images/bears\\teddy_bear\\b0a5f35244.jpg\n",
      "SUCCESS - saved https://cdn.webshopapp.com/shops/21980/files/329106595/800x600x2/love-duvet-cover-teddy-bear-single-140-x-200-cm-wh.jpg - as ./images/bears\\teddy_bear\\489c358422.jpg\n",
      "SUCCESS - saved https://encrypted-tbn0.gstatic.com/images?q=tbn%3AANd9GcTk_O2wbcz2PLUnBi0-AR9pXSvkO0xw9b6Vmw&usqp=CAU - as ./images/bears\\teddy_bear\\23ec6b7ff1.jpg\n",
      "SUCCESS - saved https://www.hesemans.nl/wp-content/uploads/2019/05/hermann_teddy_17054_9_teddybeer_aardbei_strawberry_hesemans.jpg - as ./images/bears\\teddy_bear\\55de36ad8a.jpg\n",
      "SUCCESS - saved https://media.gettyimages.com/photos/teddy-bear-waiting-picture-id173819287?s=612x612 - as ./images/bears\\teddy_bear\\d728999017.jpg\n",
      "SUCCESS - saved https://encrypted-tbn0.gstatic.com/images?q=tbn%3AANd9GcTyt8d7Fcc26gtFGqIDM6tU7HkElhJl22VDTA&usqp=CAU - as ./images/bears\\teddy_bear\\bc55303bb7.jpg\n",
      "SUCCESS - saved https://i.pinimg.com/originals/67/77/5e/67775e8172663a02b43631ae0c6fd957.jpg - as ./images/bears\\teddy_bear\\36d8a8e1ea.jpg\n",
      "SUCCESS - saved https://encrypted-tbn0.gstatic.com/images?q=tbn%3AANd9GcTvACkm-f6ktI4PNDy6sfGedDqkbh6Y7FB06Q&usqp=CAU - as ./images/bears\\teddy_bear\\9de1bc13e7.jpg\n",
      "SUCCESS - saved https://cdn.webshopapp.com/shops/289394/files/335674254/1600x2048x2/maileg-teddy-bear-mom.jpg - as ./images/bears\\teddy_bear\\bdfc44959f.jpg\n",
      "SUCCESS - saved https://media.tiffany.com/is/image/Tiffany/EcomItemL2/tiffany-x-steiffreturn-to-tiffany-love-classic-teddy-bear-60559813_1003994_ED.jpg?&op_usm=2.0,1.0,6.0&$cropN=0.1,0.1,0.8,0.8&defaultImage=NoImageAvailableInternal& - as ./images/bears\\teddy_bear\\68dd85396a.jpg\n",
      "SUCCESS - saved https://encrypted-tbn0.gstatic.com/images?q=tbn%3AANd9GcSaHG5kKufNnygeU_78cHIeSeoYApA4AC5v1Q&usqp=CAU - as ./images/bears\\teddy_bear\\5311bda0ad.jpg\n",
      "SUCCESS - saved https://cdn.webshopapp.com/shops/23076/files/321009237/kong-kitten-teddy-bear.jpg - as ./images/bears\\teddy_bear\\a46e63dd03.jpg\n",
      "SUCCESS - saved https://www.rossi-shop.nl/images/thumbs/0021698_suzuki-ecstar-teddy-bear-teddybeer-beer_600.jpeg - as ./images/bears\\teddy_bear\\81a79d9341.jpg\n",
      "SUCCESS - saved https://allthattrends.com/wp-content/uploads/2018/08/15525-v0rmw3.jpg - as ./images/bears\\teddy_bear\\a79e0de88d.jpg\n",
      "SUCCESS - saved https://media.s-bol.com/YWm7KK16ZKkM/550x759.jpg - as ./images/bears\\teddy_bear\\cc89d55ebd.jpg\n",
      "SUCCESS - saved https://inkylines.nl/images/products/printables/teddy/teddy_2.jpg?v1592902690 - as ./images/bears\\teddy_bear\\9034cbb2a9.jpg\n",
      "SUCCESS - saved https://encrypted-tbn0.gstatic.com/images?q=tbn%3AANd9GcSIeM9VMkVMllQaTFXMVNialINZ8e_alv8iDg&usqp=CAU - as ./images/bears\\teddy_bear\\4f7f8bab8d.jpg\n",
      "SUCCESS - saved https://encrypted-tbn0.gstatic.com/images?q=tbn%3AANd9GcSSBgVtePRY9Dz-jJ6a1D71BiaYMm-oNqN78A&usqp=CAU - as ./images/bears\\teddy_bear\\9c072bda02.jpg\n",
      "SUCCESS - saved https://cdn.notinoimg.com/detail_thumb/i-heart-revolution/5057566128438_01-o/i-heart-revolution-teddy-bear-oogschaduw-palette_.jpg - as ./images/bears\\teddy_bear\\28964809aa.jpg\n",
      "SUCCESS - saved https://5.imimg.com/data5/HK/RM/MY-4390697/teddy-bear-500x500.jpg - as ./images/bears\\teddy_bear\\9668809d68.jpg\n",
      "SUCCESS - saved https://encrypted-tbn0.gstatic.com/images?q=tbn%3AANd9GcTRUQI1HUP3WHnI8td1QIFeFGk7PnEHqIi87A&usqp=CAU - as ./images/bears\\teddy_bear\\0fc7df3aa2.jpg\n",
      "SUCCESS - saved https://encrypted-tbn0.gstatic.com/images?q=tbn%3AANd9GcTi22Zg7njOYolxzBJ-5BOYDTBatfDx1YYFUQ&usqp=CAU - as ./images/bears\\teddy_bear\\384e6659db.jpg\n",
      "SUCCESS - saved https://encrypted-tbn0.gstatic.com/images?q=tbn%3AANd9GcTtY_GMyNkG0WTgM2alpveWgf1lsIO5Iirs0w&usqp=CAU - as ./images/bears\\teddy_bear\\e03315c4aa.jpg\n",
      "SUCCESS - saved https://encrypted-tbn0.gstatic.com/images?q=tbn%3AANd9GcQqaiE7QUHKEag_l6cCQh3yb8m4_YY4H97ECA&usqp=CAU - as ./images/bears\\teddy_bear\\3fd5ac9c09.jpg\n",
      "SUCCESS - saved https://encrypted-tbn0.gstatic.com/images?q=tbn%3AANd9GcQ92nfgVrZuD4-o-hxLFIkl2IQOX9GbcHVexw&usqp=CAU - as ./images/bears\\teddy_bear\\95b6320e65.jpg\n",
      "SUCCESS - saved https://archive-store.nl/pub/media/catalog/product/cache/207e23213cf636ccdef205098cf3c8a3/s/t/steiff-camillo-teddy-bear-026805.jpg - as ./images/bears\\teddy_bear\\4ce8b74bc3.jpg\n",
      "SUCCESS - saved https://bulbby.scdn4.secure.raxcdn.com/7825-large_default/megateddybear.jpg - as ./images/bears\\teddy_bear\\0ed0e49abb.jpg\n",
      "SUCCESS - saved https://encrypted-tbn0.gstatic.com/images?q=tbn%3AANd9GcTGoodZEOEu4gfFJ5WAj06lPWJFoMUGZXTr8A&usqp=CAU - as ./images/bears\\teddy_bear\\f941c4c157.jpg\n",
      "SUCCESS - saved https://static.yoursurprise.com/galleryimage/b7/b7880477dc9819a498642f9d51ffe989/giant-teddy-bear-1-meter-35.jpg - as ./images/bears\\teddy_bear\\59942d5e19.jpg\n",
      "SUCCESS - saved https://archive-store.nl/pub/media/catalog/product/cache/3fba745dcec88e97bfe808bedc471260/s/t/steiff-luca-teddybear-027475.jpg - as ./images/bears\\teddy_bear\\fd56492d91.jpg\n",
      "SUCCESS - saved https://cdn.webshopapp.com/shops/260902/files/315914495/890x820x2/hermann-teddy-cuddly-animal-teddy-bear-beige-38-cm.jpg - as ./images/bears\\teddy_bear\\a8b62b4530.jpg\n",
      "SUCCESS - saved https://cdn.webshopapp.com/shops/29858/files/325323486/kong-kitten-teddy-bear.jpg - as ./images/bears\\teddy_bear\\213d4e5755.jpg\n",
      "SUCCESS - saved https://encrypted-tbn0.gstatic.com/images?q=tbn%3AANd9GcRRY9e_1iuDniuzQgu6Tv_byLewu2wg8UxGjQ&usqp=CAU - as ./images/bears\\teddy_bear\\7a5aa585d0.jpg\n",
      "SUCCESS - saved https://encrypted-tbn0.gstatic.com/images?q=tbn%3AANd9GcSZG2BsO9n9o9K94szslGTCSQ12jXSAbJ8ZrQ&usqp=CAU - as ./images/bears\\teddy_bear\\84d3a19f94.jpg\n",
      "SUCCESS - saved https://encrypted-tbn0.gstatic.com/images?q=tbn%3AANd9GcTzAYlCnz4XySeEbHWe3WjqA2sqUb8Ha3fCOQ&usqp=CAU - as ./images/bears\\teddy_bear\\e0d02182dc.jpg\n"
     ]
    },
    {
     "name": "stdout",
     "output_type": "stream",
     "text": [
      "SUCCESS - saved https://cdn.webshopapp.com/shops/241159/files/293550546/steiff-amadeus-teddy-bear-blond.jpg - as ./images/bears\\teddy_bear\\c7d1b10df3.jpg\n",
      "SUCCESS - saved https://encrypted-tbn0.gstatic.com/images?q=tbn%3AANd9GcTF0k12Uze-vytWDxNhkCO4HTzMlgOpisJEWg&usqp=CAU - as ./images/bears\\teddy_bear\\c4506877ae.jpg\n",
      "SUCCESS - saved https://archive-store.nl/pub/media/catalog/product/cache/207e23213cf636ccdef205098cf3c8a3/s/t/steiff-james-teddybear-archive-store-01.jpg - as ./images/bears\\teddy_bear\\4850a7b987.jpg\n",
      "SUCCESS - saved https://i.pinimg.com/originals/39/01/e0/3901e062c1d63fa19e019f63a46c3a78.jpg - as ./images/bears\\teddy_bear\\72858bc639.jpg\n",
      "SUCCESS - saved https://cdn.webshopapp.com/shops/260902/files/315913628/890x820x2/hermann-teddy-cuddly-animal-teddy-bear-with-sound.jpg - as ./images/bears\\teddy_bear\\4881af3133.jpg\n",
      "SUCCESS - saved https://www.funbakings.nl/data/upload/Shop/images/jem-pop-it-teddy-bear--teddybeer.jpg - as ./images/bears\\teddy_bear\\2ae5ebe23e.jpg\n",
      "SUCCESS - saved https://cdn.onlinepets.com/images/products/kong_dr_noys_dog_teddy_bear_164875_0500_none.jpg - as ./images/bears\\teddy_bear\\0923cff6c6.jpg\n",
      "SUCCESS - saved https://encrypted-tbn0.gstatic.com/images?q=tbn%3AANd9GcR_LA7OYEbTFg7Y2MayoU4fQMOrypRoBdBPgw&usqp=CAU - as ./images/bears\\teddy_bear\\7f86574dae.jpg\n",
      "SUCCESS - saved https://encrypted-tbn0.gstatic.com/images?q=tbn%3AANd9GcQgZMa39iHMeydH-D5VGo1-CovuxFZTqC_mUA&usqp=CAU - as ./images/bears\\teddy_bear\\330ff9f479.jpg\n",
      "SUCCESS - saved https://encrypted-tbn0.gstatic.com/images?q=tbn%3AANd9GcRRO3G2uFjVTmNCyp9E0hr9k5r-0dju4srU5A&usqp=CAU - as ./images/bears\\teddy_bear\\a65acd0190.jpg\n",
      "SUCCESS - saved https://media.gucci.com/style/DarkGray_Center_0_0_490x490/1527183905/527766_ZAF77_5759_001_100_0000_Light-Needlepoint-cushion-with-teddy-bear.jpg - as ./images/bears\\teddy_bear\\17affc63bd.jpg\n",
      "SUCCESS - saved https://media.s-bol.com/JZXnGrWXzkvD/550x564.jpg - as ./images/bears\\teddy_bear\\1839a76761.jpg\n",
      "SUCCESS - saved https://www.planethappy.nl/resize/4001505006364_2507511939410.jpg/0/1100/True/steiff-limited-edition-stina-teddy-bear-honey.jpg - as ./images/bears\\teddy_bear\\feeddce1e7.jpg\n",
      "SUCCESS - saved https://encrypted-tbn0.gstatic.com/images?q=tbn%3AANd9GcSYGgSbh5Cq6sMcUd8m5c-L9j_EcGHezQSiBQ&usqp=CAU - as ./images/bears\\teddy_bear\\d6d4774560.jpg\n",
      "SUCCESS - saved https://encrypted-tbn0.gstatic.com/images?q=tbn%3AANd9GcTEOsc9va7OMx-KZ5RS5dsSdFrcdtcZHEusVw&usqp=CAU - as ./images/bears\\teddy_bear\\0b61ece59f.jpg\n",
      "SUCCESS - saved https://cdn.webshopapp.com/shops/260902/files/331916147/500x460x2/steiff-einstein-teddy-bear.jpg - as ./images/bears\\teddy_bear\\dace5b1903.jpg\n",
      "SUCCESS - saved https://amsterdam-souvenirs.nl/media/catalog/product/cache/1/image/650x/040ec09b1e35df139433887a97daa66f/b/e/beerxxxamsterdamroodshirtd79709401.jpg - as ./images/bears\\teddy_bear\\87eb56511d.jpg\n",
      "SUCCESS - saved https://encrypted-tbn0.gstatic.com/images?q=tbn%3AANd9GcRx0w51iThNDTdQibKHBVBUFAqoZfeEn9YIhA&usqp=CAU - as ./images/bears\\teddy_bear\\28382e3484.jpg\n",
      "SUCCESS - saved https://www.ilovespeelgoed.nl/media/catalog/product/cache/1/image/1800x/62defc7f46f3fbfc8afcd112227d1181/s/t/steiff-happy-teddybear-20-cm_1.jpg - as ./images/bears\\teddy_bear\\0ea6ca4093.jpg\n",
      "SUCCESS - saved https://media.s-bol.com/q7n79xBMvKjk/550x749.jpg - as ./images/bears\\teddy_bear\\6cda7bbaa6.jpg\n",
      "SUCCESS - saved https://encrypted-tbn0.gstatic.com/images?q=tbn%3AANd9GcQheghqgcSiRgpMDZRgBpMUWcK0cGlxghrglQ&usqp=CAU - as ./images/bears\\teddy_bear\\78f520f726.jpg\n",
      "SUCCESS - saved https://encrypted-tbn0.gstatic.com/images?q=tbn%3AANd9GcQyXBNZkDuWo9eClCTlMF_pmuGvlU1r6tuVyw&usqp=CAU - as ./images/bears\\teddy_bear\\201dfeaf96.jpg\n",
      "SUCCESS - saved https://encrypted-tbn0.gstatic.com/images?q=tbn%3AANd9GcSbxLUp4fD2t69KClbcApUdly80gwMG8mAZjw&usqp=CAU - as ./images/bears\\teddy_bear\\8d154eeab3.jpg\n",
      "ERROR - Could not save https://medicalcenterflowersandmore.com/wp-content/uploads/2015/07/A-teddy-Bear-at-stone-Oak-Flowers-and-More.jpg - cannot identify image file <_io.BytesIO object at 0x00000250BB90D680>\n",
      "SUCCESS - saved https://d1126yhoonl7p4.cloudfront.net/img/p/1/2/8/6/2/12862-large_default.jpg - as ./images/bears\\teddy_bear\\74593aaf71.jpg\n",
      "SUCCESS - saved https://encrypted-tbn0.gstatic.com/images?q=tbn%3AANd9GcTqSI9xXVkwQee_67vo5ViRzPC99OZWZMwSbA&usqp=CAU - as ./images/bears\\teddy_bear\\fbe8392e60.jpg\n",
      "SUCCESS - saved https://media.s-bol.com/733YmWYLqQWr/550x645.jpg - as ./images/bears\\teddy_bear\\9de7734f4b.jpg\n",
      "SUCCESS - saved https://www.planethappy.nl/resize/4001505111679_13826260719972.jpg/0/1100/True/steiff-fynn-teddy-bear.jpg - as ./images/bears\\teddy_bear\\43f6e7eda1.jpg\n",
      "SUCCESS - saved https://www.planethappy.nl/resize/4001505012914_17545010683448.jpg/0/1100/True/steiff-charly-dangling-teddy-bear-30-cm.jpg - as ./images/bears\\teddy_bear\\a5e8fa9667.jpg\n",
      "SUCCESS - saved https://encrypted-tbn0.gstatic.com/images?q=tbn%3AANd9GcSnrt5hiZnjUOFigd_S4XrtrFYgs9FInYccmw&usqp=CAU - as ./images/bears\\teddy_bear\\15712452af.jpg\n",
      "SUCCESS - saved https://encrypted-tbn0.gstatic.com/images?q=tbn%3AANd9GcRINSJOw5nk8865tdvq1y5aEmBLUbEf6f34PQ&usqp=CAU - as ./images/bears\\teddy_bear\\c4c5b6b430.jpg\n",
      "SUCCESS - saved https://www.deleukstetaartenshop.nl/media/catalog/product/cache/1/thumbnail/500x500/9df78eab33525d08d6e5fb8d27136e95/C/S/CSB036_3.jpg - as ./images/bears\\teddy_bear\\16ee1e2140.jpg\n",
      "SUCCESS - saved https://shop.holland.com/media/catalog/product/cache/3/image/9df78eab33525d08d6e5fb8d27136e95/t/e/teddyberen_knuffel_delfts_blauw_20_of_100cm_koop_je_bij_shop.holland.com-min.jpg - as ./images/bears\\teddy_bear\\fc2aa14868.jpg\n",
      "SUCCESS - saved https://encrypted-tbn0.gstatic.com/images?q=tbn%3AANd9GcQ81Kd7GagcRDGgmeNZjB_hrMCMD3y9JRTGBg&usqp=CAU - as ./images/bears\\teddy_bear\\19a770548d.jpg\n",
      "SUCCESS - saved https://encrypted-tbn0.gstatic.com/images?q=tbn%3AANd9GcRBKQgi8txvZJzZ73dWH86UpxatsAZVbFF7Bg&usqp=CAU - as ./images/bears\\teddy_bear\\f55ebe58c4.jpg\n",
      "SUCCESS - saved https://encrypted-tbn0.gstatic.com/images?q=tbn%3AANd9GcRET1f1HXsZBC6r77_YJ0S5yKW_QRqSPQvvaQ&usqp=CAU - as ./images/bears\\teddy_bear\\5ce2ea9e26.jpg\n",
      "SUCCESS - saved https://flndrs.nl/media/catalog/product/cache/1/image/9df78eab33525d08d6e5fb8d27136e95/s/n/snurk-teddy-bear-flanel-dekbedovertrek-1-persoons.jpg - as ./images/bears\\teddy_bear\\57b21c1c93.jpg\n",
      "SUCCESS - saved https://www.prilorshop.nl/image/cache/catalog/Bewaarbox/teddybear%20light-500x500.jpg - as ./images/bears\\teddy_bear\\d4be61bb0a.jpg\n",
      "SUCCESS - saved https://cdn-1.debijenkorf.nl/web_detail/snurk-teddy-bear-kinderdekbedovertrekset-van-katoen-160tc-inclusief-kussenslopen/?reference=083/030/13_0830309005911125_pro_flt_det_01_1108_1528_2412830.jpg - as ./images/bears\\teddy_bear\\6d8d410c8f.jpg\n",
      "SUCCESS - saved https://encrypted-tbn0.gstatic.com/images?q=tbn%3AANd9GcSbscLMPg-uUbzpkqzxNPAipDf45Z7KNFUK-A&usqp=CAU - as ./images/bears\\teddy_bear\\aaf2017725.jpg\n",
      "SUCCESS - saved https://encrypted-tbn0.gstatic.com/images?q=tbn%3AANd9GcSx0oZIjTiqsXbQKf3R_U8exPD8bS1odEq6Jg&usqp=CAU - as ./images/bears\\teddy_bear\\23e34370c1.jpg\n",
      "SUCCESS - saved https://cdn.shopify.com/s/files/1/0016/5799/5315/products/glowing-big-teddy-bear-baby-boy-clothes-girl-soft-toy-lucky-w-mishycobabies-blue-stuffed_566.jpg?v=1547067276 - as ./images/bears\\teddy_bear\\9302f34d5d.jpg\n",
      "SUCCESS - saved https://www.ikea.com/nl/en/images/products/brunbjorn-soft-toy-bear__0531366_PE647283_S5.JPG - as ./images/bears\\teddy_bear\\75bdd2b58d.jpg\n",
      "SUCCESS - saved https://www.mylittlecarpet.nl/wp-content/uploads/2018/08/speelmat-teddy-bear-150-cm-childhome-2.jpg - as ./images/bears\\teddy_bear\\70321fc117.jpg\n",
      "SUCCESS - saved https://shop.holland.com/media/catalog/product/cache/3/image/9df78eab33525d08d6e5fb8d27136e95/t/e/teddy_bear_van_zachte_stof_in_delfts_blauw_motief_100cm_hoog_en_10kg_zwaar_met_oranje_neusje_-_gaaf_kraamcadeau_bij_shop.holland.com-min.jpg - as ./images/bears\\teddy_bear\\238987b075.jpg\n",
      "SUCCESS - saved https://encrypted-tbn0.gstatic.com/images?q=tbn%3AANd9GcRjVsGyzYTJA3rkGu33MDD0MMKErKO6LE8-pg&usqp=CAU - as ./images/bears\\teddy_bear\\a735fef3aa.jpg\n",
      "SUCCESS - saved https://encrypted-tbn0.gstatic.com/images?q=tbn%3AANd9GcSQOR3JVNd4ulmBJSPfCJPxDe5yV8g3xvVZjg&usqp=CAU - as ./images/bears\\teddy_bear\\bf1ba9262c.jpg\n",
      "SUCCESS - saved https://www.lodger.com/client/lodger/upload/articles/fuzzy/FUFLBA1001/8719033387782_0_FUFLBA1001_589-Ocean.jpg - as ./images/bears\\teddy_bear\\5cef65530a.jpg\n",
      "SUCCESS - saved https://encrypted-tbn0.gstatic.com/images?q=tbn%3AANd9GcSqVryRkKLvDfOWoTS-BD5NkFlY_f31P9W3gw&usqp=CAU - as ./images/bears\\teddy_bear\\849fdbaaf1.jpg\n",
      "SUCCESS - saved https://encrypted-tbn0.gstatic.com/images?q=tbn%3AANd9GcR5h4NWaQcdQe--jdH8dXoEFxDAq9tafrTRbQ&usqp=CAU - as ./images/bears\\teddy_bear\\4423cbd9a3.jpg\n"
     ]
    }
   ],
   "source": [
    "search_and_download(search_term=SEARCH_TERM,driver_path=DRIVER_PATH,target_path=DESTINATION,number_images=100)"
   ]
  },
  {
   "cell_type": "code",
   "execution_count": null,
   "metadata": {},
   "outputs": [],
   "source": []
  },
  {
   "cell_type": "code",
   "execution_count": null,
   "metadata": {},
   "outputs": [],
   "source": []
  }
 ],
 "metadata": {
  "kernelspec": {
   "display_name": "Python 3",
   "language": "python",
   "name": "python3"
  },
  "language_info": {
   "codemirror_mode": {
    "name": "ipython",
    "version": 3
   },
   "file_extension": ".py",
   "mimetype": "text/x-python",
   "name": "python",
   "nbconvert_exporter": "python",
   "pygments_lexer": "ipython3",
   "version": "3.8.3"
  }
 },
 "nbformat": 4,
 "nbformat_minor": 4
}
